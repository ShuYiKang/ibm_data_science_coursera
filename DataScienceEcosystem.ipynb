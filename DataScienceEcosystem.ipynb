{
  "metadata": {
    "kernelspec": {
      "name": "python",
      "display_name": "Python (Pyodide)",
      "language": "python"
    },
    "language_info": {
      "codemirror_mode": {
        "name": "python",
        "version": 3
      },
      "file_extension": ".py",
      "mimetype": "text/x-python",
      "name": "python",
      "nbconvert_exporter": "python",
      "pygments_lexer": "ipython3",
      "version": "3.8"
    }
  },
  "nbformat_minor": 5,
  "nbformat": 4,
  "cells": [
    {
      "id": "914a3d87-460e-4806-a335-e49b31c9009e",
      "cell_type": "markdown",
      "source": "# Data Science Tools and Ecosystem",
      "metadata": {}
    },
    {
      "id": "c516f6a2-6a70-48d8-ac4b-6b016aea61da",
      "cell_type": "markdown",
      "source": "##### In this notebook, Data Science Tools and Ecosystem are summarized.",
      "metadata": {}
    },
    {
      "id": "02655b20-594c-4f44-804d-573fa707ea91",
      "cell_type": "markdown",
      "source": "#### Some of the popular languages that Data Scientists use are:",
      "metadata": {}
    },
    {
      "id": "2ebf8c9c-4921-41d5-a2f7-b65b8567cddb",
      "cell_type": "markdown",
      "source": "1. R\n2. python\n3. sql\n4. julia",
      "metadata": {}
    },
    {
      "id": "d3348c30-0f4e-474b-9ad7-c9389c649137",
      "cell_type": "markdown",
      "source": "#### Some of the commonly used libraries used by Data Scientists include:",
      "metadata": {}
    },
    {
      "id": "322242a3-a33b-42a9-9ba2-c3f496695834",
      "cell_type": "markdown",
      "source": "1. scikit-learn\n2. pandas\n3. pytorch\n4. tensor-flow\n",
      "metadata": {
        "jp-MarkdownHeadingCollapsed": true
      }
    },
    {
      "id": "5ceae29b-13cf-4cd5-a3b9-b326d4c7404c",
      "cell_type": "markdown",
      "source": "#### Table of Data Science tools.",
      "metadata": {}
    },
    {
      "id": "657ea3dc-a221-4ea0-a461-f886eedaca7f",
      "cell_type": "markdown",
      "source": "| Data Science Tools | \n| :------- | \n| Jupyter Notebook |\n| VS Code  |\n| Jupyterlite  |",
      "metadata": {}
    },
    {
      "id": "8869ca1b-5f55-45d8-a311-d911d80e4f14",
      "cell_type": "markdown",
      "source": "#### Below are a few examples of evaluating arithmetic expressions in Python",
      "metadata": {}
    },
    {
      "id": "195bf9d8-fd0e-45a4-ad13-3cbd98533f04",
      "cell_type": "code",
      "source": "#This a simple arithmetic expression to mutiply then add integers\n(3*4)+5",
      "metadata": {
        "trusted": true
      },
      "outputs": [
        {
          "execution_count": 10,
          "output_type": "execute_result",
          "data": {
            "text/plain": "17"
          },
          "metadata": {}
        }
      ],
      "execution_count": 10
    },
    {
      "id": "3c5689ff-c69b-426a-ae0e-ac15a855227c",
      "cell_type": "code",
      "source": "#This will convert 200 minutes to hours by diving by 60\n200/60",
      "metadata": {
        "trusted": true
      },
      "outputs": [
        {
          "execution_count": 12,
          "output_type": "execute_result",
          "data": {
            "text/plain": "3.3333333333333335"
          },
          "metadata": {}
        }
      ],
      "execution_count": 12
    },
    {
      "id": "7564c32c-b9fd-4093-94a9-0f8df0574c02",
      "cell_type": "markdown",
      "source": "**Objectives:**\n- list popular languages for Data Science\n- list commonly used libraries for Data Science\n- list Data Science tools\n",
      "metadata": {}
    },
    {
      "id": "786ccaaa-f922-465f-9b03-4aaf318e05a3",
      "cell_type": "markdown",
      "source": "## Author\nShu Yi",
      "metadata": {}
    }
  ]
}